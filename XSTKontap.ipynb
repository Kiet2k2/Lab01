{
  "nbformat": 4,
  "nbformat_minor": 0,
  "metadata": {
    "colab": {
      "name": "XSTKontap.ipynb",
      "provenance": [],
      "authorship_tag": "ABX9TyPahnFwKt3FIOywIFDS1yjL",
      "include_colab_link": true
    },
    "kernelspec": {
      "name": "python3",
      "display_name": "Python 3"
    },
    "language_info": {
      "name": "python"
    }
  },
  "cells": [
    {
      "cell_type": "markdown",
      "metadata": {
        "id": "view-in-github",
        "colab_type": "text"
      },
      "source": [
        "<a href=\"https://colab.research.google.com/github/Kiet2k2/Lab01/blob/main/XSTKontap.ipynb\" target=\"_parent\"><img src=\"https://colab.research.google.com/assets/colab-badge.svg\" alt=\"Open In Colab\"/></a>"
      ]
    },
    {
      "cell_type": "code",
      "execution_count": null,
      "metadata": {
        "colab": {
          "base_uri": "https://localhost:8080/"
        },
        "id": "aRS84ERbRfDY",
        "outputId": "2c5de05f-d301-4d91-b618-80fdf8fada33"
      },
      "outputs": [
        {
          "output_type": "stream",
          "name": "stdout",
          "text": [
            "P(A) =  0.3\n",
            "P(B) =  0.55\n",
            "P(C) =  0.15\n",
            "P(D) =  0.5\n",
            "P(E) =  0.7\n",
            "P(C|D) =  0.3\n",
            "P(C|E) =  0.21428571428571427\n"
          ]
        }
      ],
      "source": [
        "import math\n",
        "import random\n",
        "def rut_nap_chai():\n",
        "  return random.choice([\"Trung thuong\",\"Khong trung thuong\"])\n",
        "A = 0\n",
        "B = 0\n",
        "C = 0\n",
        "D = 0\n",
        "E = 0\n",
        "F = 0\n",
        "random.seed(0)\n",
        "for i in range (20):\n",
        "  lan_mot = rut_nap_chai()\n",
        "  lan_hai = rut_nap_chai()\n",
        "  if lan_mot == \"Khong trung thuong\" and lan_hai == \"Khong trung thuong\":\n",
        "    A+=1\n",
        "  if (lan_mot == \"Trung thuong\" and lan_hai == \"Khong trung thuong\") or (lan_mot == \"Khong trung thuong\" and lan_hai == \"Trung thuong\"):\n",
        "    B+=1\n",
        "  if lan_mot == \"Trung thuong\" and lan_hai == \"Trung thuong\":\n",
        "    C+=1\n",
        "  if lan_hai == \"Trung thuong\":\n",
        "    D+=1\n",
        "  if lan_mot == \"Trung thuong\" or lan_hai == \"Trung thuong\":\n",
        "    E+=1\n",
        "print(\"P(A) = \",A/20)\n",
        "print(\"P(B) = \",B/20)\n",
        "print(\"P(C) = \",C/20)\n",
        "print(\"P(D) = \",D/20)\n",
        "print(\"P(E) = \",E/20)\n",
        "print(\"P(C|D) = \",C/D)\n",
        "print(\"P(C|E) = \",C/E)"
      ]
    },
    {
      "cell_type": "markdown",
      "source": [
        "Phân phối xác suất"
      ],
      "metadata": {
        "id": "6t9xEAAfiWrK"
      }
    },
    {
      "cell_type": "code",
      "source": [
        "import numpy as np\n",
        "import matplotlib.pyplot as plt\n",
        "x = np.linspace(-1, 2, 100)\n",
        "def uniform_pdf(x):\n",
        "  return 1 if x >= 0 and x < 1 else 0\n",
        "y = []\n",
        "for i in range(100):\n",
        "  y.append(uniform_pdf(x[i]))\n",
        "plt.plot(x, y, 'r')\n",
        "plt.show()\n"
      ],
      "metadata": {
        "colab": {
          "base_uri": "https://localhost:8080/",
          "height": 265
        },
        "id": "nLc0WZxyiYqo",
        "outputId": "ef3ba7d8-5aa4-478e-b073-d58c496ad6b6"
      },
      "execution_count": null,
      "outputs": [
        {
          "output_type": "display_data",
          "data": {
            "text/plain": [
              "<Figure size 432x288 with 1 Axes>"
            ],
            "image/png": "[encoded data removed]"
          },
          "metadata": {
            "needs_background": "light"
          }
        }
      ]
    },
    {
      "cell_type": "markdown",
      "source": [
        "Biểu đồ biểu diễn phân phối liên tục đều"
      ],
      "metadata": {
        "id": "K-eVxhLMi-AB"
      }
    },
    {
      "cell_type": "code",
      "source": [
        "import numpy as np\n",
        "import matplotlib.pyplot as plt\n",
        "x = np.linspace(-1, 2, 100)\n",
        "def uniform_cdf(x):\n",
        "  if x < 0:\n",
        "    return 0\n",
        "  elif x < 1:\n",
        "    return x\n",
        "  else:\n",
        "    return 1\n",
        "y = []\n",
        "for i in range(100):\n",
        "  y.append(uniform_cdf(x[i]))\n",
        "plt.plot(x, y, 'r')\n",
        "plt.show()\n"
      ],
      "metadata": {
        "colab": {
          "base_uri": "https://localhost:8080/",
          "height": 265
        },
        "id": "X-BPNFSnjO1Z",
        "outputId": "7138efbd-2344-4362-bcaa-291ac2aa7f70"
      },
      "execution_count": null,
      "outputs": [
        {
          "output_type": "display_data",
          "data": {
            "text/plain": [
              "<Figure size 432x288 with 1 Axes>"
            ],
            "image/png": "[encoded data removed]"
          },
          "metadata": {
            "needs_background": "light"
          }
        }
      ]
    },
    {
      "cell_type": "markdown",
      "source": [
        "Phân phối chuẩn"
      ],
      "metadata": {
        "id": "mhjNUn7YkLH6"
      }
    },
    {
      "cell_type": "code",
      "source": [
        "def normal_pdf(x, mu=0, sigma=1):\n",
        "  sqrt_two_pi = math.sqrt(2 * math.pi)\n",
        "  return (math.exp(-(x-mu) ** 2 / 2 / sigma ** 2) / (sqrt_two_pi * sigma))\n",
        "xs = [x / 10.0 for x in range(-50, 50)]\n",
        "import numpy as np\n",
        "import matplotlib.pyplot as plt\n",
        "plt.plot(xs,[normal_pdf(x,sigma=1) for x in xs],'-',label='mu=0,sigma=1')\n",
        "plt.plot(xs,[normal_pdf(x,sigma=2) for x in xs],'--',label='mu=0,sigma=2')\n",
        "plt.plot(xs,[normal_pdf(x,sigma=0.5) for x in xs],':',label='mu=0,sigma=0.5')\n",
        "plt.plot(xs,[normal_pdf(x,mu=-1) for x in xs],'-.',label='mu=-1,sigma=1')\n",
        "plt.legend()\n",
        "plt.title(\"Các trường hợp của pdf\")\n",
        "plt.show()\n"
      ],
      "metadata": {
        "colab": {
          "base_uri": "https://localhost:8080/",
          "height": 281
        },
        "id": "DdtJoqm5kNiR",
        "outputId": "665230eb-f77a-418d-ccfe-8d5127b31a51"
      },
      "execution_count": null,
      "outputs": [
        {
          "output_type": "display_data",
          "data": {
            "text/plain": [
              "<Figure size 432x288 with 1 Axes>"
            ],
            "image/png": "[encoded data removed]"
          },
          "metadata": {
            "needs_background": "light"
          }
        }
      ]
    },
    {
      "cell_type": "code",
      "source": [
        "import numpy as np\n",
        "import matplotlib.pyplot as plt\n",
        "x = np.linspace(-1, 2, 100)\n",
        "def uniform_pdf(x):\n",
        "  return 1 if x >= 0 and x < 1 else 0\n",
        "y = []\n",
        "for i in range(100):\n",
        "  y.append(uniform_pdf(x[i]))\n",
        "plt.title(\"Biểu đồ biến thiên liên tục trên 3 đoạn\");\n",
        "print(\"Biểu đồ biến thiên từ (x = -1 --> x = 0, y = 0)\")\n",
        "print(\"Biểu đồ biến thiên từ (x = 0 --> x = 1, y = 1)\")\n",
        "print(\"Biểu đồ biến thiên từ (x = 1 --> x = 2), y = 0\")\n",
        "plt.plot(x, y, 'brown')\n",
        "plt.show()\n"
      ],
      "metadata": {
        "colab": {
          "base_uri": "https://localhost:8080/",
          "height": 333
        },
        "id": "svKYi6hARyjY",
        "outputId": "ed9f4d94-2d5b-41c8-b5aa-866a88c8e1b6"
      },
      "execution_count": 1,
      "outputs": [
        {
          "output_type": "stream",
          "name": "stdout",
          "text": [
            "Biểu đồ biến thiên từ (x = -1 --> x = 0, y = 0)\n",
            "Biểu đồ biến thiên từ (x = 0 --> x = 1, y = 1)\n",
            "Biểu đồ biến thiên từ (x = 1 --> x = 2), y = 0\n"
          ]
        },
        {
          "output_type": "display_data",
          "data": {
            "text/plain": [
              "<Figure size 432x288 with 1 Axes>"
            ],
            "image/png": "[encoded data removed]"
          },
          "metadata": {
            "needs_background": "light"
          }
        }
      ]
    },
    {
      "cell_type": "code",
      "source": [
        "import math\n",
        "from sklearn.naive_bayes import BernoulliNB \n",
        "import numpy as np\n",
        "e1 = [1, 1, 0, 1, 0] \n",
        "e2 = [0, 1, 1, 0, 0]\n",
        "e3 = [1, 0, 1, 0, 1]\n",
        "e4 = [1, 1, 1, 1, 0]\n",
        "e5 = [0, 1, 0, 1, 0]\n",
        "e6 = [0, 0, 0, 1, 1]\n",
        "e7 = [0, 1, 0, 0, 0]\n",
        "e8 = [1, 1, 0, 1, 0]\n",
        "e9 = [0, 0, 1, 1, 1]\n",
        "e10 = [1, 0, 1, 0, 1]\n",
        "train_data = np.array([e1, e2, e3, e4, \n",
        "e5, e6, e7, e8, e9, e10])\n",
        "label = np.array(['N', 'N', 'S', 'S', 'S', \n",
        "'N', 'S', 'S', 'N', 'S'])\n",
        "e11 = np.array([[1, 0, 0, 1, 1]]) \n",
        "clf1 = BernoulliNB(alpha=1e-10)\n",
        "clf1.fit(train_data, label)\n",
        "BernoulliNB(alpha=1e-10, binarize=0.0, \n",
        "class_prior=None, fit_prior=True) \n",
        "print('Xác suất xuất hiện mỗi loại của email thứ 11: \\n', \n",
        "clf1.predict_proba(e11))\n",
        "print('Dự đoán email thứ 11 thuộc loại:', \n",
        "str(clf1.predict(e11)[0]))\n"
      ],
      "metadata": {
        "colab": {
          "base_uri": "https://localhost:8080/"
        },
        "id": "7DxLsWuaSLgA",
        "outputId": "2c3d9add-755c-44a4-d814-8cb3139d3555"
      },
      "execution_count": 2,
      "outputs": [
        {
          "output_type": "stream",
          "name": "stdout",
          "text": [
            "Xác suất xuất hiện mỗi loại của email thứ 11: \n",
            " [[0.45762712 0.54237288]]\n",
            "Dự đoán email thứ 11 thuộc loại: S\n"
          ]
        }
      ]
    },
    {
      "cell_type": "code",
      "source": [
        "from sklearn.naive_bayes import MultinomialNB\n",
        "import numpy as np\n",
        "#train data-dữ liệu huấn luyện\n",
        "e1 = [1, 2, 1, 0, 1, 0, 0]\n",
        "e2 = [0, 2, 0, 0, 1, 1, 1]\n",
        "e3 = [1, 0, 1, 1, 0, 2, 0]\n",
        "train_data = np.array([e1, e2, e3])\n",
        "label = np.array(['N', 'N', 'S'])\n",
        "e4 = np.array([[1, 0, 0, 0, 0, 0, 1]]) #test data–dữ liệu kiểm tra\n",
        "clf1 = MultinomialNB(alpha=1)\n",
        "clf1.fit(train_data, label)\n",
        "MultinomialNB(alpha=1, class_prior=None, fit_prior=True)\n",
        "#Huan luyen (phân tích, xử lý ..)\n",
        "print('Xác suất xuất hiện mỗi loại của email thứ 4:', clf1.predict_proba(e4))\n",
        "print('Dự đoán email thứ 4 thuộc loại:', str(clf1.predict(e4)[0]))\n"
      ],
      "metadata": {
        "colab": {
          "base_uri": "https://localhost:8080/"
        },
        "id": "_Aehv30iSbYO",
        "outputId": "046f969c-d70a-4596-e5e8-ec97e69b3ea7"
      },
      "execution_count": 4,
      "outputs": [
        {
          "output_type": "stream",
          "name": "stdout",
          "text": [
            "Xác suất xuất hiện mỗi loại của email thứ 4: [[0.66589595 0.33410405]]\n",
            "Dự đoán email thứ 4 thuộc loại: N\n"
          ]
        }
      ]
    },
    {
      "cell_type": "code",
      "source": [
        "import math\n",
        "data = [0.6, 0.24, 0.36, 1.20, 1.8, 4.40, 2.2, 3.2, 60, 80]\n",
        "def mean(data): #median —trung vị(giá trị ở giữa -middle value)\n",
        "  return sum(data)/len(data)\n",
        "mu = mean(data)\n",
        "print(mu)\n",
        "import numpy #sử dụng thư viện numpy\n",
        "numpy.mean(data)\n",
        "data = [0.6, 0.24, 0.36, 1.20, 1.8, 4.40, 2.2, 3.2, 60, 80]\n",
        "import statistics #sử dụng thư viện thống kê\n",
        "print(statistics.mean(data))\n",
        "#Mode là giá trị xuất hiện nhiều lần nhất trong tập dữ liệu data\n",
        "def mode(data):\n",
        "  dmax = data[5]\n",
        "  for d in data:\n",
        "    if data.count(d) > data.count(dmax):\n",
        "      dmax = d\n",
        "  return dmax\n",
        "mode(data)\n",
        "data = [1.6, 52.8, 18.36, 5.2, 1.8, 4.9, 2.5, 3.2, 60, 90]\n",
        "def mode(data):\n",
        "  dmax = data[7]\n",
        "  for d in data:\n",
        "    if data.count(d) > data.count(dmax):\n",
        "      dmax = d\n",
        "  return dmax\n",
        "mode(data)\n",
        "#Mode là giá trị xuất hiện nhiều lần nhất trong tập dữ liệu data\n",
        "import statistics #sử dụng thư viện thống kê\n",
        "print(statistics.mean(data))\n",
        "\n"
      ],
      "metadata": {
        "colab": {
          "base_uri": "https://localhost:8080/"
        },
        "id": "u0Qdg0O0S5ll",
        "outputId": "d4ab428f-fa00-4a54-d457-df6e06df8fd4"
      },
      "execution_count": 9,
      "outputs": [
        {
          "output_type": "stream",
          "name": "stdout",
          "text": [
            "15.4\n",
            "15.4\n",
            "24.036\n"
          ]
        }
      ]
    },
    {
      "cell_type": "code",
      "source": [
        "import numpy #sử dụng thư viện numpy\n",
        "numpy.mean(data)\n",
        "data = [0.6, 0.24, 0.36, 1.20, 1.8, 4.40, 2.2, 3.2, 60, 80]\n",
        "import statistics #sử dụng thư viện thống kê\n",
        "print(statistics.mean(data))"
      ],
      "metadata": {
        "colab": {
          "base_uri": "https://localhost:8080/"
        },
        "id": "Kbt6Jb4_V9P3",
        "outputId": "b747e871-4629-4ca9-9cf1-cf147b8fff11"
      },
      "execution_count": 14,
      "outputs": [
        {
          "output_type": "stream",
          "name": "stdout",
          "text": [
            "15.4\n"
          ]
        }
      ]
    },
    {
      "cell_type": "code",
      "source": [
        "import math\n",
        "data = [0.6, 0.24, 0.36, 1.20, 1.8, 4.40, 2.2, 3.2, 60, 80]\n",
        "def mean(data): #median —trung vị(giá trị ở giữa -middle value)\n",
        "  return sum(data)/len(data)\n",
        "mu = mean(data)\n",
        "print(mu)"
      ],
      "metadata": {
        "colab": {
          "base_uri": "https://localhost:8080/"
        },
        "id": "xGhKlZGTV1id",
        "outputId": "e9ad275b-41c0-4582-c809-b895311e74c1"
      },
      "execution_count": 13,
      "outputs": [
        {
          "output_type": "stream",
          "name": "stdout",
          "text": [
            "15.4\n"
          ]
        }
      ]
    },
    {
      "cell_type": "code",
      "source": [
        "def mode(data):\n",
        "  dmax = data[5]\n",
        "  for d in data:\n",
        "    if data.count(d) > data.count(dmax):\n",
        "      dmax = d\n",
        "  return dmax\n",
        "mode(data)"
      ],
      "metadata": {
        "colab": {
          "base_uri": "https://localhost:8080/"
        },
        "id": "60IPl38IXMqn",
        "outputId": "3bb0cb51-96cc-427e-a9b5-2034772741b2"
      },
      "execution_count": 15,
      "outputs": [
        {
          "output_type": "execute_result",
          "data": {
            "text/plain": [
              "4.4"
            ]
          },
          "metadata": {},
          "execution_count": 15
        }
      ]
    },
    {
      "cell_type": "code",
      "source": [
        "import math\n",
        "from matplotlib import pyplot as plt\n",
        "SoGiay = [20.4, 26.2, 18.9, 21.0, 20.6, 17.7,\n",
        "19.1,22.4]\n",
        "SoLanChay = [1,2,3,4,5,6,7,8]\n",
        "xs = [i + 0.3 for i, _ in enumerate(SoLanChay)]\n",
        "plt.bar(xs, SoGiay)\n",
        "plt.xticks([i + 0.3 for i, _ in\n",
        "enumerate(SoLanChay)], SoLanChay)\n",
        "plt.show()#Ghi thêm title chính, title OX, title OY;"
      ],
      "metadata": {
        "colab": {
          "base_uri": "https://localhost:8080/",
          "height": 265
        },
        "id": "5as3J14NYcPp",
        "outputId": "b4544017-4303-4980-88d4-2eef061ce26f"
      },
      "execution_count": 16,
      "outputs": [
        {
          "output_type": "display_data",
          "data": {
            "text/plain": [
              "<Figure size 432x288 with 1 Axes>"
            ],
            "image/png": "[encoded data removed]"
          },
          "metadata": {
            "needs_background": "light"
          }
        }
      ]
    },
    {
      "cell_type": "code",
      "source": [
        "print(\"th11\")\n",
        "from scipy import stats\n",
        "import numpy as np\n",
        "from numpy import random\n",
        "a = random.normal(0,1,10000)\n",
        "mean, sigma = np.mean(a), np.std(a)\n",
        "conf_int_a = stats.norm.interval(0.68, loc=mean, scale=sigma)\n",
        "conf_int_b = stats.norm.interval(0.68, loc=mean, scale=sigma /\n",
        "np.sqrt(len(a)))\n",
        "print(conf_int_a)\n",
        "print(conf_int_b)\n",
        "print(\"th12\")\n",
        "N=10000\n",
        "a= np.random.normal(0, 1, N)\n",
        "mean, sigma = a.mean(), a.std(ddof=1)\n",
        "conf_int_a = stats.norm.interval(0.68, loc=mean, scale=sigma)\n",
        "print(conf_int_a)"
      ],
      "metadata": {
        "colab": {
          "base_uri": "https://localhost:8080/"
        },
        "id": "MEjaggizaSnf",
        "outputId": "1c50d41f-5a23-4e03-d655-01533e2d8260"
      },
      "execution_count": 17,
      "outputs": [
        {
          "output_type": "stream",
          "name": "stdout",
          "text": [
            "th11\n",
            "(-0.996445598893929, 0.9949654883814044)\n",
            "(-0.0106971106926392, 0.009217000180114135)\n",
            "th12\n",
            "(-0.9770282738818588, 1.0116750165653592)\n"
          ]
        }
      ]
    },
    {
      "cell_type": "code",
      "source": [
        "import math\n",
        "# Lấy mẫu ngẫu nhiên 240 người Hà Nội trong mẫu có 24 người đi làm bằng xe đạp\n",
        "tong_mau = 240 \n",
        "so_mau = 24\n",
        "#p là tỷ lệ tổng thể người lớn ở Hà Nội đi làm bằng xe đạp\n",
        "p = 0.06\n",
        "muc_y_nghia = 0.05\n",
        "f = so_mau/tong_mau\n",
        "# f là tỷ lệ người lớn ở Hà Nội đi xe đạp trong mẫu\n",
        "print(\"Tỷ lệ người lớn ở Hà Nội đi xe đạp trong mẫu:\", f)\n",
        "std_dev= math.sqrt((p*(1 - p))/tong_mau)\n",
        "print(std_dev)\n",
        "z_score = (f - p)/std_dev\n",
        "#z_score là công thức tính giá trị kiểm định\n",
        "print(\"Giá trị kiểm định\",z_score)"
      ],
      "metadata": {
        "colab": {
          "base_uri": "https://localhost:8080/"
        },
        "id": "IloNG5mlbx8h",
        "outputId": "503fe98c-d513-4c06-ccbb-205d60738451"
      },
      "execution_count": 18,
      "outputs": [
        {
          "output_type": "stream",
          "name": "stdout",
          "text": [
            "Tỷ lệ người lớn ở Hà Nội đi xe đạp trong mẫu: 0.1\n",
            "0.015329709716755891\n",
            "Giá trị kiểm định 2.6093122922137693\n"
          ]
        }
      ]
    }
  ]
}